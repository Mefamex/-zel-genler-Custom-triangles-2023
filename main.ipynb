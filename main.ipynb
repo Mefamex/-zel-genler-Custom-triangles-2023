{
  "nbformat": 4,
  "nbformat_minor": 0,
  "metadata": {
    "colab": {
      "provenance": [],
      "toc_visible": true,
      "authorship_tag": "ABX9TyMv488LkIu1hDutdtFJ5Cp7",
      "include_colab_link": true
    },
    "kernelspec": {
      "name": "python3",
      "display_name": "Python 3"
    },
    "language_info": {
      "name": "python"
    }
  },
  "cells": [
    {
      "cell_type": "markdown",
      "metadata": {
        "id": "view-in-github",
        "colab_type": "text"
      },
      "source": [
        "<a href=\"https://colab.research.google.com/github/Mefamex/ozel-ucgenler-Custom-triangles-2023/blob/main/main.ipynb\" target=\"_parent\"><img src=\"https://colab.research.google.com/assets/colab-badge.svg\" alt=\"Open In Colab\"/></a>"
      ]
    },
    {
      "cell_type": "markdown",
      "source": [
        "# Importing"
      ],
      "metadata": {
        "id": "vbleFJZpvms_"
      }
    },
    {
      "cell_type": "code",
      "execution_count": null,
      "metadata": {
        "id": "KBPdlNlztX6Y"
      },
      "outputs": [],
      "source": [
        "\n",
        "Number_path=\"D:\\\\SOFTWARE\\\\PPython\\\\pychrm\\\\handy_AI_forScreen\\\\SS\"\n",
        "Numbers_name_path=[ [int(q[0]) , Number_path+\"\\\\\"+q] for q in os.listdir(Number_path)]\n",
        "for q in Numbers_name_path:print(q)\n",
        "\n",
        "\n",
        "img_size = (64,64)\n",
        "images = []\n",
        "labels = []\n",
        "\n",
        "for label,file_path in Numbers_name_path:\n",
        "    img = cv2.imread(file_path, cv2.IMREAD_GRAYSCALE)\n",
        "    img = cv2.resize(img, img_size)\n",
        "    images.append(img)\n",
        "\n",
        "    labels.append(label)\n",
        "\n",
        "images = np.array(images) / 255.0\n",
        "labels = np.array(labels)\n",
        "print(\"images size=\",images.shape)\n",
        "print(\"labes size=\",labels.shape)\n",
        "print(images)\n",
        "print(labels)\n",
        "\n",
        "\n",
        "\n",
        "\n",
        "\n",
        "\n",
        "\n",
        "model = Sequential()\n",
        "model.add(Conv2D(32, (3, 3), padding=\"same\", activation=\"relu\", input_shape=(img_size[0], img_size[1], 1)))\n",
        "model.add(MaxPooling2D((2, 2)))\n",
        "#model.add(Conv2D(64, (3, 3), padding=\"same\", activation=\"relu\"))\n",
        "#model.add(MaxPooling2D((2, 2), strides=(2, 2)))\n",
        "model.add(Flatten())\n",
        "model.add(Dense(128, activation=\"relu\"))\n",
        "model.add(Dense(1, activation=\"sigmoid\")) #\n",
        "\n",
        "\n",
        "model.compile(loss='binary_crossentropy', optimizer=\"adam\", metrics=[\"accuracy\"])\n",
        "#           loss='binary_crossentropy'\n",
        "\n",
        "\n",
        "model.fit(images, labels, epochs=100,shuffle=True)#, validation_split=0.4\n",
        "#model.save(\"path/to/save/model.h5\")\n",
        "\n",
        "for lab,pat in Numbers_name_path:\n",
        "    prediction = model.predict(\n",
        "        np.array(   cv2.resize(\n",
        "                cv2.imread(pat, cv2.IMREAD_GRAYSCALE), img_size)    ).reshape(-1, img_size[0], img_size[1], 1)  )\n",
        "\n",
        "    print(\"Tahmin: \",lab, prediction)\n",
        "\n",
        "\n",
        "input()\n"
      ]
    },
    {
      "cell_type": "code",
      "source": [
        "# -*- coding: utf-8 -*-\n",
        "\"\"\"Created on Thursday, January 4 15:57:00 2024\n",
        "\n",
        "@author: mefamex\"\"\"\n",
        "\n",
        "!pip install pytorch\n",
        "!pip install pytorch_lightning\n",
        "\n",
        "import os\n",
        "import random\n",
        "import numpy as np\n",
        "import pandas as pd\n",
        "\n",
        "import keras\n",
        "from keras.models import Sequential\n",
        "from keras.layers import Dense, Dropout, Activation, Conv2D, MaxPooling2D, Flatten, Input\n",
        "from keras.optimizers import Adam\n",
        "\n",
        "\n",
        "\n",
        "import cv2 , csv\n",
        "from numpy import genfromtxt\n",
        "\n",
        "import matplotlib\n",
        "import matplotlib.pyplot as plt\n",
        "from matplotlib.image import imread"
      ],
      "metadata": {
        "id": "Q1H_SwGQvbY4"
      },
      "execution_count": null,
      "outputs": []
    },
    {
      "cell_type": "code",
      "source": [
        "import numpy as np\n",
        "import pandas as pd\n",
        "import matplotlib.pyplot as plt\n",
        "import seaborn as sns\n",
        "%matplotlib inline\n",
        "import torch\n",
        "print(torch.cuda.is_available())\n",
        "device = torch.device(\"cuda\" if torch.cuda.is_available() else \"cpu\")"
      ],
      "metadata": {
        "id": "3adDusHE4SyG",
        "colab": {
          "base_uri": "https://localhost:8080/"
        },
        "outputId": "9f9b3187-2eb5-4aeb-d4d7-0e16981ead6e"
      },
      "execution_count": null,
      "outputs": [
        {
          "output_type": "stream",
          "name": "stdout",
          "text": [
            "False\n"
          ]
        }
      ]
    },
    {
      "cell_type": "code",
      "source": [
        "print(os.getcwd(),os.listdir())\n",
        "df_Train=pd.read_csv('train.csv')\n",
        "df_Test=pd.read_csv('test.csv')\n",
        "print(df_Train.shape)\n",
        "print(df_Test.shape)\n",
        "X = df_Train.iloc[:, 1:].values\n",
        "y = df_Train.iloc[:, 0].values\n",
        "print(X.shape, y.shape)"
      ],
      "metadata": {
        "colab": {
          "base_uri": "https://localhost:8080/"
        },
        "id": "zu7My50h6DxF",
        "outputId": "260d8378-ce4f-46ce-a415-ea67b0715d77"
      },
      "execution_count": null,
      "outputs": [
        {
          "output_type": "stream",
          "name": "stdout",
          "text": [
            "/content ['.config', 'train.csv', 'sample_data', 'test.csv']\n",
            "(24668, 785)\n",
            "(28000, 784)\n",
            "(24668, 784) (24668,)\n"
          ]
        }
      ]
    },
    {
      "cell_type": "code",
      "source": [
        "sns.countplot(y)"
      ],
      "metadata": {
        "id": "bzRgqIKb7DTA"
      },
      "execution_count": null,
      "outputs": []
    },
    {
      "cell_type": "code",
      "source": [
        " plt.imshow(X[1029].reshape((28,28)),interpolation='nearest')"
      ],
      "metadata": {
        "colab": {
          "base_uri": "https://localhost:8080/",
          "height": 448
        },
        "id": "7xrTO5xG8yeA",
        "outputId": "4798c794-1094-4f59-960c-e58725929d12"
      },
      "execution_count": null,
      "outputs": [
        {
          "output_type": "execute_result",
          "data": {
            "text/plain": [
              "<matplotlib.image.AxesImage at 0x7d503b790400>"
            ]
          },
          "metadata": {},
          "execution_count": 84
        },
        {
          "output_type": "display_data",
          "data": {
            "text/plain": [
              "<Figure size 640x480 with 1 Axes>"
            ],
            "image/png": "[encoded data removed]"
          },
          "metadata": {}
        }
      ]
    },
    {
      "cell_type": "code",
      "source": [
        "from sklearn.preprocessing import StandardScaler\n",
        "\n",
        "scaler = StandardScaler()\n",
        "X = scaler.fit_transform(X)"
      ],
      "metadata": {
        "colab": {
          "base_uri": "https://localhost:8080/",
          "height": 403
        },
        "id": "bFRntaKP86PX",
        "outputId": "019f5442-f0fd-4fa4-8d74-99f90d26ed83"
      },
      "execution_count": null,
      "outputs": [
        {
          "output_type": "error",
          "ename": "ValueError",
          "evalue": "Found array with dim 4. StandardScaler expected <= 2.",
          "traceback": [
            "\u001b[0;31m---------------------------------------------------------------------------\u001b[0m",
            "\u001b[0;31mValueError\u001b[0m                                Traceback (most recent call last)",
            "\u001b[0;32m<ipython-input-85-6783c5317bbc>\u001b[0m in \u001b[0;36m<cell line: 4>\u001b[0;34m()\u001b[0m\n\u001b[1;32m      2\u001b[0m \u001b[0;34m\u001b[0m\u001b[0m\n\u001b[1;32m      3\u001b[0m \u001b[0mscaler\u001b[0m \u001b[0;34m=\u001b[0m \u001b[0mStandardScaler\u001b[0m\u001b[0;34m(\u001b[0m\u001b[0;34m)\u001b[0m\u001b[0;34m\u001b[0m\u001b[0;34m\u001b[0m\u001b[0m\n\u001b[0;32m----> 4\u001b[0;31m \u001b[0mX\u001b[0m \u001b[0;34m=\u001b[0m \u001b[0mscaler\u001b[0m\u001b[0;34m.\u001b[0m\u001b[0mfit_transform\u001b[0m\u001b[0;34m(\u001b[0m\u001b[0mX\u001b[0m\u001b[0;34m)\u001b[0m\u001b[0;34m\u001b[0m\u001b[0;34m\u001b[0m\u001b[0m\n\u001b[0m",
            "\u001b[0;32m/usr/local/lib/python3.10/dist-packages/sklearn/utils/_set_output.py\u001b[0m in \u001b[0;36mwrapped\u001b[0;34m(self, X, *args, **kwargs)\u001b[0m\n\u001b[1;32m    138\u001b[0m     \u001b[0;34m@\u001b[0m\u001b[0mwraps\u001b[0m\u001b[0;34m(\u001b[0m\u001b[0mf\u001b[0m\u001b[0;34m)\u001b[0m\u001b[0;34m\u001b[0m\u001b[0;34m\u001b[0m\u001b[0m\n\u001b[1;32m    139\u001b[0m     \u001b[0;32mdef\u001b[0m \u001b[0mwrapped\u001b[0m\u001b[0;34m(\u001b[0m\u001b[0mself\u001b[0m\u001b[0;34m,\u001b[0m \u001b[0mX\u001b[0m\u001b[0;34m,\u001b[0m \u001b[0;34m*\u001b[0m\u001b[0margs\u001b[0m\u001b[0;34m,\u001b[0m \u001b[0;34m**\u001b[0m\u001b[0mkwargs\u001b[0m\u001b[0;34m)\u001b[0m\u001b[0;34m:\u001b[0m\u001b[0;34m\u001b[0m\u001b[0;34m\u001b[0m\u001b[0m\n\u001b[0;32m--> 140\u001b[0;31m         \u001b[0mdata_to_wrap\u001b[0m \u001b[0;34m=\u001b[0m \u001b[0mf\u001b[0m\u001b[0;34m(\u001b[0m\u001b[0mself\u001b[0m\u001b[0;34m,\u001b[0m \u001b[0mX\u001b[0m\u001b[0;34m,\u001b[0m \u001b[0;34m*\u001b[0m\u001b[0margs\u001b[0m\u001b[0;34m,\u001b[0m \u001b[0;34m**\u001b[0m\u001b[0mkwargs\u001b[0m\u001b[0;34m)\u001b[0m\u001b[0;34m\u001b[0m\u001b[0;34m\u001b[0m\u001b[0m\n\u001b[0m\u001b[1;32m    141\u001b[0m         \u001b[0;32mif\u001b[0m \u001b[0misinstance\u001b[0m\u001b[0;34m(\u001b[0m\u001b[0mdata_to_wrap\u001b[0m\u001b[0;34m,\u001b[0m \u001b[0mtuple\u001b[0m\u001b[0;34m)\u001b[0m\u001b[0;34m:\u001b[0m\u001b[0;34m\u001b[0m\u001b[0;34m\u001b[0m\u001b[0m\n\u001b[1;32m    142\u001b[0m             \u001b[0;31m# only wrap the first output for cross decomposition\u001b[0m\u001b[0;34m\u001b[0m\u001b[0;34m\u001b[0m\u001b[0m\n",
            "\u001b[0;32m/usr/local/lib/python3.10/dist-packages/sklearn/base.py\u001b[0m in \u001b[0;36mfit_transform\u001b[0;34m(self, X, y, **fit_params)\u001b[0m\n\u001b[1;32m    876\u001b[0m         \u001b[0;32mif\u001b[0m \u001b[0my\u001b[0m \u001b[0;32mis\u001b[0m \u001b[0;32mNone\u001b[0m\u001b[0;34m:\u001b[0m\u001b[0;34m\u001b[0m\u001b[0;34m\u001b[0m\u001b[0m\n\u001b[1;32m    877\u001b[0m             \u001b[0;31m# fit method of arity 1 (unsupervised transformation)\u001b[0m\u001b[0;34m\u001b[0m\u001b[0;34m\u001b[0m\u001b[0m\n\u001b[0;32m--> 878\u001b[0;31m             \u001b[0;32mreturn\u001b[0m \u001b[0mself\u001b[0m\u001b[0;34m.\u001b[0m\u001b[0mfit\u001b[0m\u001b[0;34m(\u001b[0m\u001b[0mX\u001b[0m\u001b[0;34m,\u001b[0m \u001b[0;34m**\u001b[0m\u001b[0mfit_params\u001b[0m\u001b[0;34m)\u001b[0m\u001b[0;34m.\u001b[0m\u001b[0mtransform\u001b[0m\u001b[0;34m(\u001b[0m\u001b[0mX\u001b[0m\u001b[0;34m)\u001b[0m\u001b[0;34m\u001b[0m\u001b[0;34m\u001b[0m\u001b[0m\n\u001b[0m\u001b[1;32m    879\u001b[0m         \u001b[0;32melse\u001b[0m\u001b[0;34m:\u001b[0m\u001b[0;34m\u001b[0m\u001b[0;34m\u001b[0m\u001b[0m\n\u001b[1;32m    880\u001b[0m             \u001b[0;31m# fit method of arity 2 (supervised transformation)\u001b[0m\u001b[0;34m\u001b[0m\u001b[0;34m\u001b[0m\u001b[0m\n",
            "\u001b[0;32m/usr/local/lib/python3.10/dist-packages/sklearn/preprocessing/_data.py\u001b[0m in \u001b[0;36mfit\u001b[0;34m(self, X, y, sample_weight)\u001b[0m\n\u001b[1;32m    822\u001b[0m         \u001b[0;31m# Reset internal state before fitting\u001b[0m\u001b[0;34m\u001b[0m\u001b[0;34m\u001b[0m\u001b[0m\n\u001b[1;32m    823\u001b[0m         \u001b[0mself\u001b[0m\u001b[0;34m.\u001b[0m\u001b[0m_reset\u001b[0m\u001b[0;34m(\u001b[0m\u001b[0;34m)\u001b[0m\u001b[0;34m\u001b[0m\u001b[0;34m\u001b[0m\u001b[0m\n\u001b[0;32m--> 824\u001b[0;31m         \u001b[0;32mreturn\u001b[0m \u001b[0mself\u001b[0m\u001b[0;34m.\u001b[0m\u001b[0mpartial_fit\u001b[0m\u001b[0;34m(\u001b[0m\u001b[0mX\u001b[0m\u001b[0;34m,\u001b[0m \u001b[0my\u001b[0m\u001b[0;34m,\u001b[0m \u001b[0msample_weight\u001b[0m\u001b[0;34m)\u001b[0m\u001b[0;34m\u001b[0m\u001b[0;34m\u001b[0m\u001b[0m\n\u001b[0m\u001b[1;32m    825\u001b[0m \u001b[0;34m\u001b[0m\u001b[0m\n\u001b[1;32m    826\u001b[0m     \u001b[0;32mdef\u001b[0m \u001b[0mpartial_fit\u001b[0m\u001b[0;34m(\u001b[0m\u001b[0mself\u001b[0m\u001b[0;34m,\u001b[0m \u001b[0mX\u001b[0m\u001b[0;34m,\u001b[0m \u001b[0my\u001b[0m\u001b[0;34m=\u001b[0m\u001b[0;32mNone\u001b[0m\u001b[0;34m,\u001b[0m \u001b[0msample_weight\u001b[0m\u001b[0;34m=\u001b[0m\u001b[0;32mNone\u001b[0m\u001b[0;34m)\u001b[0m\u001b[0;34m:\u001b[0m\u001b[0;34m\u001b[0m\u001b[0;34m\u001b[0m\u001b[0m\n",
            "\u001b[0;32m/usr/local/lib/python3.10/dist-packages/sklearn/preprocessing/_data.py\u001b[0m in \u001b[0;36mpartial_fit\u001b[0;34m(self, X, y, sample_weight)\u001b[0m\n\u001b[1;32m    859\u001b[0m \u001b[0;34m\u001b[0m\u001b[0m\n\u001b[1;32m    860\u001b[0m         \u001b[0mfirst_call\u001b[0m \u001b[0;34m=\u001b[0m \u001b[0;32mnot\u001b[0m \u001b[0mhasattr\u001b[0m\u001b[0;34m(\u001b[0m\u001b[0mself\u001b[0m\u001b[0;34m,\u001b[0m \u001b[0;34m\"n_samples_seen_\"\u001b[0m\u001b[0;34m)\u001b[0m\u001b[0;34m\u001b[0m\u001b[0;34m\u001b[0m\u001b[0m\n\u001b[0;32m--> 861\u001b[0;31m         X = self._validate_data(\n\u001b[0m\u001b[1;32m    862\u001b[0m             \u001b[0mX\u001b[0m\u001b[0;34m,\u001b[0m\u001b[0;34m\u001b[0m\u001b[0;34m\u001b[0m\u001b[0m\n\u001b[1;32m    863\u001b[0m             \u001b[0maccept_sparse\u001b[0m\u001b[0;34m=\u001b[0m\u001b[0;34m(\u001b[0m\u001b[0;34m\"csr\"\u001b[0m\u001b[0;34m,\u001b[0m \u001b[0;34m\"csc\"\u001b[0m\u001b[0;34m)\u001b[0m\u001b[0;34m,\u001b[0m\u001b[0;34m\u001b[0m\u001b[0;34m\u001b[0m\u001b[0m\n",
            "\u001b[0;32m/usr/local/lib/python3.10/dist-packages/sklearn/base.py\u001b[0m in \u001b[0;36m_validate_data\u001b[0;34m(self, X, y, reset, validate_separately, **check_params)\u001b[0m\n\u001b[1;32m    563\u001b[0m             \u001b[0;32mraise\u001b[0m \u001b[0mValueError\u001b[0m\u001b[0;34m(\u001b[0m\u001b[0;34m\"Validation should be done on X, y or both.\"\u001b[0m\u001b[0;34m)\u001b[0m\u001b[0;34m\u001b[0m\u001b[0;34m\u001b[0m\u001b[0m\n\u001b[1;32m    564\u001b[0m         \u001b[0;32melif\u001b[0m \u001b[0;32mnot\u001b[0m \u001b[0mno_val_X\u001b[0m \u001b[0;32mand\u001b[0m \u001b[0mno_val_y\u001b[0m\u001b[0;34m:\u001b[0m\u001b[0;34m\u001b[0m\u001b[0;34m\u001b[0m\u001b[0m\n\u001b[0;32m--> 565\u001b[0;31m             \u001b[0mX\u001b[0m \u001b[0;34m=\u001b[0m \u001b[0mcheck_array\u001b[0m\u001b[0;34m(\u001b[0m\u001b[0mX\u001b[0m\u001b[0;34m,\u001b[0m \u001b[0minput_name\u001b[0m\u001b[0;34m=\u001b[0m\u001b[0;34m\"X\"\u001b[0m\u001b[0;34m,\u001b[0m \u001b[0;34m**\u001b[0m\u001b[0mcheck_params\u001b[0m\u001b[0;34m)\u001b[0m\u001b[0;34m\u001b[0m\u001b[0;34m\u001b[0m\u001b[0m\n\u001b[0m\u001b[1;32m    566\u001b[0m             \u001b[0mout\u001b[0m \u001b[0;34m=\u001b[0m \u001b[0mX\u001b[0m\u001b[0;34m\u001b[0m\u001b[0;34m\u001b[0m\u001b[0m\n\u001b[1;32m    567\u001b[0m         \u001b[0;32melif\u001b[0m \u001b[0mno_val_X\u001b[0m \u001b[0;32mand\u001b[0m \u001b[0;32mnot\u001b[0m \u001b[0mno_val_y\u001b[0m\u001b[0;34m:\u001b[0m\u001b[0;34m\u001b[0m\u001b[0;34m\u001b[0m\u001b[0m\n",
            "\u001b[0;32m/usr/local/lib/python3.10/dist-packages/sklearn/utils/validation.py\u001b[0m in \u001b[0;36mcheck_array\u001b[0;34m(array, accept_sparse, accept_large_sparse, dtype, order, copy, force_all_finite, ensure_2d, allow_nd, ensure_min_samples, ensure_min_features, estimator, input_name)\u001b[0m\n\u001b[1;32m    913\u001b[0m             )\n\u001b[1;32m    914\u001b[0m         \u001b[0;32mif\u001b[0m \u001b[0;32mnot\u001b[0m \u001b[0mallow_nd\u001b[0m \u001b[0;32mand\u001b[0m \u001b[0marray\u001b[0m\u001b[0;34m.\u001b[0m\u001b[0mndim\u001b[0m \u001b[0;34m>=\u001b[0m \u001b[0;36m3\u001b[0m\u001b[0;34m:\u001b[0m\u001b[0;34m\u001b[0m\u001b[0;34m\u001b[0m\u001b[0m\n\u001b[0;32m--> 915\u001b[0;31m             raise ValueError(\n\u001b[0m\u001b[1;32m    916\u001b[0m                 \u001b[0;34m\"Found array with dim %d. %s expected <= 2.\"\u001b[0m\u001b[0;34m\u001b[0m\u001b[0;34m\u001b[0m\u001b[0m\n\u001b[1;32m    917\u001b[0m                 \u001b[0;34m%\u001b[0m \u001b[0;34m(\u001b[0m\u001b[0marray\u001b[0m\u001b[0;34m.\u001b[0m\u001b[0mndim\u001b[0m\u001b[0;34m,\u001b[0m \u001b[0mestimator_name\u001b[0m\u001b[0;34m)\u001b[0m\u001b[0;34m\u001b[0m\u001b[0;34m\u001b[0m\u001b[0m\n",
            "\u001b[0;31mValueError\u001b[0m: Found array with dim 4. StandardScaler expected <= 2."
          ]
        }
      ]
    },
    {
      "cell_type": "code",
      "source": [
        "# -*- coding: utf-8 -*-\n",
        "#Created on Thursday, January 04 15:57:00 2024\n",
        "#@author: mefamex\n",
        "\n",
        "from random import random, choice, randint\n",
        "from time import time, sleep\n",
        "\n",
        "def printt(*args):\n",
        "    for q in \"\".join(args):\n",
        "        print(q,flush=True,end=\"\")\n",
        "        #sleep(0.01)\n",
        "    print(\"\")\n",
        "\n",
        "import sys, os\n",
        "\n",
        "printt(\"___________platform (win32)\", sys.platform)\n",
        "printt(\"___________os.version (3.11.1)\", sys.version.split(\" \")[0])\n",
        "printt(\"___________current path=\", os.getcwd())\n",
        "printt(\"___________path=\", sys.path[0])\n",
        "\n",
        "\n",
        "printt(\"______imported: random.random\")\n",
        "printt(\"______imported: random.randint\")\n",
        "printt(\"______imported: random.choice\")\n",
        "printt(\"______imported: time.time\")\n",
        "printt(\"______imported: time.sleep\")\n",
        "\n",
        "from functools import partial\n",
        "printt(\"______imported: functools.partial\")\n",
        "printt(\"______importing from kivy\",*[\"\\n\\t\\t\\t+ \"+q for q in [\"App\",\"Widget\",\"Button\",\"GridLayout\",\n",
        "                    \"Label\",\"Color\",\"Rectangle\",\"Clock\",]])\n",
        "### python -m pip install --ignore-installed kivy.deps.sdl2 kivy.deps.glew\n",
        "from kivy.app import App\n",
        "from kivy.uix.widget import Widget\n",
        "from kivy.uix.button import Button\n",
        "from kivy.uix.gridlayout import GridLayout\n",
        "from kivy.uix.label import Label\n",
        "from kivy.graphics import Color, Rectangle, Line\n",
        "from kivy.clock import Clock\n",
        "print(\"______imported: kivy requirements\")\n",
        "import .//main_deep_forapp as DL\n",
        "print(\"______imported: main_deep_forapp \")\n",
        "import numpy\n",
        "sleep(0.2)\n",
        "del printt\n",
        "\n",
        "_MAX_NOR, _MAX_LIN = 2, 3  # length of integer length\n",
        "_nor_types: list[str] = [\"inp\", \"mid\", \"out\"]\n",
        "\n",
        "\"\"\"real_X = [[random.random(), random.random(),1 ] for _ in range(100)]\n",
        "def fff(x,y,z): return [x,x-y,(x+y)/2+0.2]\n",
        "real_Y = [ fff(*q) for q in real_X]\"\"\"\n",
        "\"\"\"real_X = [[random.random()*3,random.random()*0.5,0.1] for _ in range(10000)]\n",
        "def fff(x,y,z): return [x,0.1,0.2 ]\n",
        "real_Y = [ fff(*q) for q in real_X]\n",
        "\"\"\"\n",
        "\n",
        "real_X,real_Y=[],[]\n",
        "for q1 in range(2):\n",
        "    for q2 in range(2):\n",
        "        for q3 in range(2):\n",
        "            for q4 in range(2):\n",
        "                for q5 in range(2):\n",
        "                    for q6 in range(2):\n",
        "                        for q7 in range(2):\n",
        "                            real_X.append([q1,q2,q3,q4,q5,q6,q7,])\n",
        "                            real_Y.append([q1,q6])\n",
        "\n",
        "print(numpy.array(real_X).shape,numpy.array(real_Y).shape)\n",
        "\n",
        "class mainLayout(Widget):\n",
        "\n",
        "    def __init__(self, **kwargs):\n",
        "        super(mainLayout, self).__init__(**kwargs)\n",
        "        self.rect = Rectangle(pos=self.pos, size=self.size)\n",
        "        self.on_pos()\n",
        "\n",
        "        self.Gridmain=GridLayout(rows=1,pos=self.center,size=self.size,orientation=\"rl-tb\")\n",
        "        self.add_widget(self.Gridmain)\n",
        "        self.Linewidget = Widget()\n",
        "        self.Dnorons, self.Dlines = [], []\n",
        "        self.DEEP = DL.MY_AI()\n",
        "        self.createDeep()\n",
        "\n",
        "        self.renewloadD()\n",
        "\n",
        "        #Clock.schedule_interval(self.pressedbtn, timeout=0.5)\n",
        "        Clock.schedule_once(partial(self.on_size, [self, self.size]), timeout=0.1)\n",
        "        Clock.schedule_interval(partial(self.on_size,self, self.size,False), timeout=0.5)\n",
        "\n",
        "\n",
        "\n",
        "    def createDeep(self):\n",
        "        self.DEEP.add_norons(nor_type=\"inp\", count=7, func=DL.matt().funcs[0])\n",
        "        self.DEEP.add_norons(nor_type=\"mid\", count=4, func=DL.matt().funcs[0])\n",
        "        #self.DEEP.add_norons(nor_type=\"mid\", count=4, func=DL.matt().funcs[0])\n",
        "        #self.DEEP.add_norons(nor_type=\"mid\", count=4, func=DL.matt().funcs[0])\n",
        "        self.DEEP.add_norons(nor_type=\"out\", count=2, func=DL.matt().funcs[0])\n",
        "\n",
        "\n",
        "\n",
        "    def renewloadD(self):\n",
        "\n",
        "        self.Linewidget = Widget()\n",
        "        self.add_widget(self.Linewidget)\n",
        "        self.Dlines ,self.Dnorons = [], []\n",
        "\n",
        "        for norr in self.DEEP.Norons:\n",
        "            daire=Button(text=norr.name+\"\\n\"+str(norr.w),background_color=(1,1,1,.5),color=(1,1,1,1),\n",
        "                         pos=self.center,bold=True,halign='center')\n",
        "            daire.nor=norr\n",
        "            daire.bind(on_press=self.pressedbtn)\n",
        "            self.Dnorons += [daire]\n",
        "        for lin in self.DEEP.Lines:\n",
        "            lin.points=[0,0,0,0]\n",
        "            linee = Widget()\n",
        "            with linee.canvas:Line(color=(1,1,1,1),points=[0,0,0,0])\n",
        "            self.Linewidget.add_widget(linee)\n",
        "            self.Dlines  += [lin]\n",
        "\n",
        "        for _ in range(self.Dnorons[-1].nor.group+1):\n",
        "            self.Gridmain.add_widget(GridLayout(cols=1))\n",
        "        for nor in self.Dnorons:\n",
        "            self.Gridmain.children[nor.nor.group].add_widget(nor)\n",
        "\n",
        "\n",
        "    def pressedbtn(self,instance):\n",
        "        self.DEEP.fit(X=real_X, Y=real_Y, epoch=1, patch=0)\n",
        "        print(\"examples , in, predict , out\",real_X[0],self.DEEP.predict(real_X[0]),real_Y[0],sep=\"\\n\")\n",
        "        self.on_size(self, self.size)\n",
        "        Clock.schedule_once(self.pressedbtn,timeout=0.1)\n",
        "\n",
        "\n",
        "\n",
        "    def on_size(self, *args):\n",
        "        if args[-2] is not False:print(\"SIZE CHANGED; on_size=\", args[1])\n",
        "        self.Gridmain.size,self.Gridmain.pos=(self.width*0.9,self.height*.9),(self.width*.05,self.height*.05)\n",
        "        self.rect.size = self.size\n",
        "        if self.Gridmain.children:\n",
        "            self.Gridmain.spacing=(self.Gridmain.width - self.Gridmain.children[0].children[0].texture_size[0]*self.DEEP.Groups.__len__()*1.4) / (self.DEEP.Groups.__len__()-1)\n",
        "            for layy in self.Gridmain.children:\n",
        "                layy.spacing=(self.Gridmain.height - layy.children[0].texture_size[1] * layy.children.__len__()*2) / ((layy.children.__len__()-1 if layy.children.__len__() > 1 else 1))\n",
        "                #layy.spacing=self.Gridmain.height / (layy.children.__len__()+1) - layy.children[0].texture_size[1]\n",
        "\n",
        "        else: self.Gridmain.spacing=10\n",
        "\n",
        "        if self.Gridmain.children:\n",
        "            self.Linewidget.clear_widgets()\n",
        "            for daire in self.Dnorons:daire.text=daire.nor.name+\"\\n\"+str(daire.nor.w)[:6]\n",
        "            for lin in range(self.Dlines.__len__()):\n",
        "                bas, son = 0 , 0\n",
        "                for nor in self.Dnorons:\n",
        "                    if nor.nor == self.DEEP.Lines[lin].before: bas = nor\n",
        "                    elif nor.nor == self.DEEP.Lines[lin].after: son = nor\n",
        "                if bas == 0: self.Dlines[lin].points=  [son.x, son.center_y, son.x-20, son.center_y]\n",
        "                elif son == 0: self.Dlines[lin].points=[bas.right, bas.center_y, bas.right+20, bas.center_y]\n",
        "                else :self.Dlines[lin].points=         [bas.right, bas.center_y, son.x, son.center_y]\n",
        "\n",
        "                linee=Widget()\n",
        "                colorred = 0 if self.Dlines[lin].w > 0 else abs(self.Dlines[lin].w)\n",
        "                colorgreen = 0 if self.Dlines[lin].w <= 0 else self.Dlines[lin].w\n",
        "                colorblue = 0 if -2 < self.Dlines[lin].w < 2 else 1\n",
        "                with linee.canvas:\n",
        "                    Color(colorred, colorgreen, colorblue,1)\n",
        "                    widthh=abs(self.Dlines[lin].w)*10\n",
        "                    if widthh<1:\n",
        "                        widthh=1\n",
        "                        colorblue,colorred,colorgreen=1,1,1\n",
        "                        Color(colorred, colorgreen, colorblue, 1)\n",
        "                    Line(color=(colorred, colorgreen, colorblue,1), width=widthh, points=self.Dlines[lin].points)\n",
        "                textline=Label(text=str(self.Dlines[lin].w)[:5],color=(1,1,1,1),bold=True,font_size=int(abs(self.Dlines[lin].w)*5)+10)\n",
        "                textline.center_x=(self.Dlines[lin].points[0]+(self.Dlines[lin].points[2]-self.Dlines[lin].points[0])*0.3)\n",
        "                textline.center_y = (self.Dlines[lin].points[1] + (self.Dlines[lin].points[3]-self.Dlines[lin].points[1] ) *0.3 )\n",
        "                self.Linewidget.add_widget(linee)\n",
        "                self.Linewidget.add_widget(textline)\n",
        "\n",
        "\n",
        "\n",
        "\n",
        "    def on_pos(self, *args):\n",
        "        self.rect.pos = self.pos\n",
        "        print(\"POSITION CHANGED; on_pos=\", args)\n",
        "\n",
        "\n",
        "\n",
        "\n",
        "\n",
        "\n",
        "\n",
        "class DeepApp(App):\n",
        "    def build(self):\n",
        "        self.icon = \".\\\\Images\\\\Mefamex_isaret_white.png\"\n",
        "        self.title = \"Deep_App\"\n",
        "        return mainLayout()\n",
        "\n",
        "print(DeepApp().run())"
      ],
      "metadata": {
        "id": "-PYZdybn_8nT",
        "colab": {
          "base_uri": "https://localhost:8080/",
          "height": 765
        },
        "outputId": "2b6ca5b7-8fa9-44be-cef1-ab841373e9e3"
      },
      "execution_count": null,
      "outputs": [
        {
          "output_type": "stream",
          "name": "stdout",
          "text": [
            "___________platform (win32)linux\n",
            "___________os.version (3.11.1)3.10.12\n",
            "___________current path=/content\n",
            "___________path=/content\n",
            "______imported: random.random\n",
            "______imported: random.randint\n",
            "______imported: random.choice\n",
            "______imported: time.time\n",
            "______imported: time.sleep\n",
            "______imported: functools.partial\n",
            "______importing from kivy\n",
            "\t\t\t+ App\n",
            "\t\t\t+ Widget\n",
            "\t\t\t+ Button\n",
            "\t\t\t+ GridLayout\n",
            "\t\t\t+ Label\n",
            "\t\t\t+ Color\n",
            "\t\t\t+ Rectangle\n",
            "\t\t\t+ Clock\n",
            "______imported: kivy requirements\n",
            "______imported: main_deep_forapp \n",
            "(128, 7) (128, 2)\n"
          ]
        },
        {
          "output_type": "error",
          "ename": "OSError",
          "evalue": "source code not available",
          "traceback": [
            "\u001b[0;31m---------------------------------------------------------------------------\u001b[0m",
            "\u001b[0;31mOSError\u001b[0m                                   Traceback (most recent call last)",
            "\u001b[0;32m<ipython-input-13-0f6030528dcd>\u001b[0m in \u001b[0;36m<cell line: 196>\u001b[0;34m()\u001b[0m\n\u001b[1;32m    194\u001b[0m         \u001b[0;32mreturn\u001b[0m \u001b[0mmainLayout\u001b[0m\u001b[0;34m(\u001b[0m\u001b[0;34m)\u001b[0m\u001b[0;34m\u001b[0m\u001b[0;34m\u001b[0m\u001b[0m\n\u001b[1;32m    195\u001b[0m \u001b[0;34m\u001b[0m\u001b[0m\n\u001b[0;32m--> 196\u001b[0;31m \u001b[0mprint\u001b[0m\u001b[0;34m(\u001b[0m\u001b[0mDeepApp\u001b[0m\u001b[0;34m(\u001b[0m\u001b[0;34m)\u001b[0m\u001b[0;34m.\u001b[0m\u001b[0mrun\u001b[0m\u001b[0;34m(\u001b[0m\u001b[0;34m)\u001b[0m\u001b[0;34m)\u001b[0m\u001b[0;34m\u001b[0m\u001b[0;34m\u001b[0m\u001b[0m\n\u001b[0m",
            "\u001b[0;32m/usr/local/lib/python3.10/dist-packages/kivy/app.py\u001b[0m in \u001b[0;36mrun\u001b[0;34m(self)\u001b[0m\n\u001b[1;32m    953\u001b[0m         '''Launches the app in standalone mode.\n\u001b[1;32m    954\u001b[0m         '''\n\u001b[0;32m--> 955\u001b[0;31m         \u001b[0mself\u001b[0m\u001b[0;34m.\u001b[0m\u001b[0m_run_prepare\u001b[0m\u001b[0;34m(\u001b[0m\u001b[0;34m)\u001b[0m\u001b[0;34m\u001b[0m\u001b[0;34m\u001b[0m\u001b[0m\n\u001b[0m\u001b[1;32m    956\u001b[0m         \u001b[0mrunTouchApp\u001b[0m\u001b[0;34m(\u001b[0m\u001b[0;34m)\u001b[0m\u001b[0;34m\u001b[0m\u001b[0;34m\u001b[0m\u001b[0m\n\u001b[1;32m    957\u001b[0m         \u001b[0mself\u001b[0m\u001b[0;34m.\u001b[0m\u001b[0m_stop\u001b[0m\u001b[0;34m(\u001b[0m\u001b[0;34m)\u001b[0m\u001b[0;34m\u001b[0m\u001b[0;34m\u001b[0m\u001b[0m\n",
            "\u001b[0;32m/usr/local/lib/python3.10/dist-packages/kivy/app.py\u001b[0m in \u001b[0;36m_run_prepare\u001b[0;34m(self)\u001b[0m\n\u001b[1;32m    922\u001b[0m         \u001b[0;32mif\u001b[0m \u001b[0;32mnot\u001b[0m \u001b[0mself\u001b[0m\u001b[0;34m.\u001b[0m\u001b[0mbuilt\u001b[0m\u001b[0;34m:\u001b[0m\u001b[0;34m\u001b[0m\u001b[0;34m\u001b[0m\u001b[0m\n\u001b[1;32m    923\u001b[0m             \u001b[0mself\u001b[0m\u001b[0;34m.\u001b[0m\u001b[0mload_config\u001b[0m\u001b[0;34m(\u001b[0m\u001b[0;34m)\u001b[0m\u001b[0;34m\u001b[0m\u001b[0;34m\u001b[0m\u001b[0m\n\u001b[0;32m--> 924\u001b[0;31m             \u001b[0mself\u001b[0m\u001b[0;34m.\u001b[0m\u001b[0mload_kv\u001b[0m\u001b[0;34m(\u001b[0m\u001b[0mfilename\u001b[0m\u001b[0;34m=\u001b[0m\u001b[0mself\u001b[0m\u001b[0;34m.\u001b[0m\u001b[0mkv_file\u001b[0m\u001b[0;34m)\u001b[0m\u001b[0;34m\u001b[0m\u001b[0;34m\u001b[0m\u001b[0m\n\u001b[0m\u001b[1;32m    925\u001b[0m             \u001b[0mroot\u001b[0m \u001b[0;34m=\u001b[0m \u001b[0mself\u001b[0m\u001b[0;34m.\u001b[0m\u001b[0mbuild\u001b[0m\u001b[0;34m(\u001b[0m\u001b[0;34m)\u001b[0m\u001b[0;34m\u001b[0m\u001b[0;34m\u001b[0m\u001b[0m\n\u001b[1;32m    926\u001b[0m             \u001b[0;32mif\u001b[0m \u001b[0mroot\u001b[0m\u001b[0;34m:\u001b[0m\u001b[0;34m\u001b[0m\u001b[0;34m\u001b[0m\u001b[0m\n",
            "\u001b[0;32m/usr/local/lib/python3.10/dist-packages/kivy/app.py\u001b[0m in \u001b[0;36mload_kv\u001b[0;34m(self, filename)\u001b[0m\n\u001b[1;32m    675\u001b[0m         \u001b[0;32melse\u001b[0m\u001b[0;34m:\u001b[0m\u001b[0;34m\u001b[0m\u001b[0;34m\u001b[0m\u001b[0m\n\u001b[1;32m    676\u001b[0m             \u001b[0;32mtry\u001b[0m\u001b[0;34m:\u001b[0m\u001b[0;34m\u001b[0m\u001b[0;34m\u001b[0m\u001b[0m\n\u001b[0;32m--> 677\u001b[0;31m                 \u001b[0mdefault_kv_directory\u001b[0m \u001b[0;34m=\u001b[0m \u001b[0mdirname\u001b[0m\u001b[0;34m(\u001b[0m\u001b[0mgetfile\u001b[0m\u001b[0;34m(\u001b[0m\u001b[0mself\u001b[0m\u001b[0;34m.\u001b[0m\u001b[0m__class__\u001b[0m\u001b[0;34m)\u001b[0m\u001b[0;34m)\u001b[0m\u001b[0;34m\u001b[0m\u001b[0;34m\u001b[0m\u001b[0m\n\u001b[0m\u001b[1;32m    678\u001b[0m                 \u001b[0;32mif\u001b[0m \u001b[0mdefault_kv_directory\u001b[0m \u001b[0;34m==\u001b[0m \u001b[0;34m''\u001b[0m\u001b[0;34m:\u001b[0m\u001b[0;34m\u001b[0m\u001b[0;34m\u001b[0m\u001b[0m\n\u001b[1;32m    679\u001b[0m                     \u001b[0mdefault_kv_directory\u001b[0m \u001b[0;34m=\u001b[0m \u001b[0;34m'.'\u001b[0m\u001b[0;34m\u001b[0m\u001b[0;34m\u001b[0m\u001b[0m\n",
            "\u001b[0;32m/usr/lib/python3.10/inspect.py\u001b[0m in \u001b[0;36mgetfile\u001b[0;34m(object)\u001b[0m\n\u001b[1;32m    783\u001b[0m                 \u001b[0;32mreturn\u001b[0m \u001b[0mmodule\u001b[0m\u001b[0;34m.\u001b[0m\u001b[0m__file__\u001b[0m\u001b[0;34m\u001b[0m\u001b[0;34m\u001b[0m\u001b[0m\n\u001b[1;32m    784\u001b[0m             \u001b[0;32mif\u001b[0m \u001b[0mobject\u001b[0m\u001b[0;34m.\u001b[0m\u001b[0m__module__\u001b[0m \u001b[0;34m==\u001b[0m \u001b[0;34m'__main__'\u001b[0m\u001b[0;34m:\u001b[0m\u001b[0;34m\u001b[0m\u001b[0;34m\u001b[0m\u001b[0m\n\u001b[0;32m--> 785\u001b[0;31m                 \u001b[0;32mraise\u001b[0m \u001b[0mOSError\u001b[0m\u001b[0;34m(\u001b[0m\u001b[0;34m'source code not available'\u001b[0m\u001b[0;34m)\u001b[0m\u001b[0;34m\u001b[0m\u001b[0;34m\u001b[0m\u001b[0m\n\u001b[0m\u001b[1;32m    786\u001b[0m         \u001b[0;32mraise\u001b[0m \u001b[0mTypeError\u001b[0m\u001b[0;34m(\u001b[0m\u001b[0;34m'{!r} is a built-in class'\u001b[0m\u001b[0;34m.\u001b[0m\u001b[0mformat\u001b[0m\u001b[0;34m(\u001b[0m\u001b[0mobject\u001b[0m\u001b[0;34m)\u001b[0m\u001b[0;34m)\u001b[0m\u001b[0;34m\u001b[0m\u001b[0;34m\u001b[0m\u001b[0m\n\u001b[1;32m    787\u001b[0m     \u001b[0;32mif\u001b[0m \u001b[0mismethod\u001b[0m\u001b[0;34m(\u001b[0m\u001b[0mobject\u001b[0m\u001b[0;34m)\u001b[0m\u001b[0;34m:\u001b[0m\u001b[0;34m\u001b[0m\u001b[0;34m\u001b[0m\u001b[0m\n",
            "\u001b[0;31mOSError\u001b[0m: source code not available"
          ]
        }
      ]
    },
    {
      "cell_type": "code",
      "source": [
        "!pip install kivy"
      ],
      "metadata": {
        "id": "mk6uaoLWrTWE"
      },
      "execution_count": null,
      "outputs": []
    }
  ]
}