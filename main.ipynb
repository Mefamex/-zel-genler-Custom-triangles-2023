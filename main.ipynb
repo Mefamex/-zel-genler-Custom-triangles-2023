{
  "nbformat": 4,
  "nbformat_minor": 0,
  "metadata": {
    "colab": {
      "provenance": [],
      "authorship_tag": "ABX9TyMaLY9Dlu5G++H9y20jRMZ+",
      "include_colab_link": true
    },
    "kernelspec": {
      "name": "python3",
      "display_name": "Python 3"
    },
    "language_info": {
      "name": "python"
    }
  },
  "cells": [
    {
      "cell_type": "markdown",
      "metadata": {
        "id": "view-in-github",
        "colab_type": "text"
      },
      "source": [
        "<a href=\"https://colab.research.google.com/github/Mefamex/ozel-ucgenler-Custom-triangles-2023/blob/main/main.ipynb\" target=\"_parent\"><img src=\"https://colab.research.google.com/assets/colab-badge.svg\" alt=\"Open In Colab\"/></a>"
      ]
    },
    {
      "cell_type": "code",
      "source": [
        "# -*- coding: utf-8 -*-\n",
        "#Created on Thursday, January 12 20:00:00 2024\n",
        "#@author: mefamex\n",
        "\n",
        "\n",
        "max_X, max_Y = 10, 10\n",
        "\n",
        "X, Y = 1,1\n",
        "\n",
        "spec_tri=[]\n",
        "\n",
        "def minimalize(given:list):\n",
        "  ebob = min(given)\n",
        "  for sayi in given:\n",
        "    while sayi:\n",
        "      ebob, sayi = sayi, ebob % sayi\n",
        "  return [sayi // ebob for sayi in given]\n",
        "\n",
        "\n",
        "def find_tri(x,y):\n",
        "  a = int( abs( x**2 - y**2 ) )\n",
        "  b = int( 2*x*y )\n",
        "  c = int( x**2 + y**2 )\n",
        "  return a,b,c\n",
        "\n",
        "def add_tri(triangle: list):\n",
        "   q = minimize( triangle )\n",
        "   if q not in spec_tri:\n",
        "     spec_tri.append(q)\n",
        "\n",
        "\n",
        "for X in range(1,max_X):\n",
        "  for Y in range(1,max_Y):\n",
        "    tri = find_tri(X,Y)\n",
        "    mini = minimalize( tri )\n",
        "    add_tri( min )\n",
        "\n",
        "print(spec_tri)"
      ],
      "metadata": {
        "id": "-PYZdybn_8nT"
      },
      "execution_count": null,
      "outputs": []
    }
  ]
}