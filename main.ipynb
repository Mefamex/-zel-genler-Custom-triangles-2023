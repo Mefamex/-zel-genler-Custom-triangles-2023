{
  "nbformat": 4,
  "nbformat_minor": 0,
  "metadata": {
    "colab": {
      "provenance": [],
      "authorship_tag": "ABX9TyO0EXniwLpRldLJROlmqVAh",
      "include_colab_link": true
    },
    "kernelspec": {
      "name": "python3",
      "display_name": "Python 3"
    },
    "language_info": {
      "name": "python"
    }
  },
  "cells": [
    {
      "cell_type": "markdown",
      "metadata": {
        "id": "view-in-github",
        "colab_type": "text"
      },
      "source": [
        "<a href=\"https://colab.research.google.com/github/Mefamex/ozel-ucgenler-Custom-triangles-2023/blob/main/main.ipynb\" target=\"_parent\"><img src=\"https://colab.research.google.com/assets/colab-badge.svg\" alt=\"Open In Colab\"/></a>"
      ]
    },
    {
      "cell_type": "code",
      "source": [
        "# -*- coding: utf-8 -*-\n",
        "#Created on Thursday, January 12 20:00:00 2024\n",
        "#@author: mefamex\n",
        "\n",
        "\n",
        "max_X, max_Y = 10, 10\n",
        "\n",
        "X, Y = 1,1\n",
        "\n",
        "tri=[]\n",
        "\n",
        "def find_divisors(x):\n",
        "    if x<0: return print(\"divisors can be in more than zero.\")\n",
        "    divs=[]\n",
        "\n",
        "\n",
        "def minimalize(*args):\n",
        "    given= [ q if type(q) is int else None for q in args]\n",
        "    div, div2 , div3 = [], [], {}\n",
        "    for q in given:\n",
        "        div.append([])\n",
        "        for q1 in range(2,q):\n",
        "            if q%q1==0 :div[-1].append(q1)\n",
        "    for q in div:\n",
        "        div2.append({})\n",
        "        for q1 in q:\n",
        "            if q1 not in div2[-1].keys(): div2[-1][q1]=1\n",
        "            else: div2[q1]+=1\n",
        "\n",
        "    for q1 in div2:\n",
        "      for q in q1.keys():\n",
        "        if q not in div3.keys(): div3[q]=1\n",
        "        else: div3[q]=1\n",
        "    divisors=[]\n",
        "    for q in div3:\n",
        "        if div3[q] == len(given): divisors.append(q)\n",
        "    print(divisors)\n",
        "minimalize(2,4,6)\n",
        "\n",
        "\n",
        "def find_tri(x,y):\n",
        "    if x < 1 or y < 1 : return print(\" size must be over than 1(one).\")\n",
        "    a = int( abs( x**2 - y**2 ) )\n",
        "    b = int( 2*x*y )\n",
        "    c = int( x**2 + y**2)\n",
        "    return a,b,c\n",
        "\n",
        "def add_tri(a,b,c):pass"
      ],
      "metadata": {
        "id": "-PYZdybn_8nT",
        "colab": {
          "base_uri": "https://localhost:8080/"
        },
        "outputId": "a6a178ea-3c0d-4b2e-f2a5-fc3e508397b8"
      },
      "execution_count": 19,
      "outputs": [
        {
          "output_type": "stream",
          "name": "stdout",
          "text": [
            "[]\n"
          ]
        }
      ]
    }
  ]
}