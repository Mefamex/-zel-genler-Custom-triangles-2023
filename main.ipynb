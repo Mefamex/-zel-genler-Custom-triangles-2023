{
  "nbformat": 4,
  "nbformat_minor": 0,
  "metadata": {
    "colab": {
      "provenance": [],
      "authorship_tag": "ABX9TyOBvBocPlJvmEeibfn0/ZwW",
      "include_colab_link": true
    },
    "kernelspec": {
      "name": "python3",
      "display_name": "Python 3"
    },
    "language_info": {
      "name": "python"
    }
  },
  "cells": [
    {
      "cell_type": "markdown",
      "metadata": {
        "id": "view-in-github",
        "colab_type": "text"
      },
      "source": [
        "<a href=\"https://colab.research.google.com/github/Mefamex/ozel-ucgenler-Custom-triangles-2023/blob/main/main.ipynb\" target=\"_parent\"><img src=\"https://colab.research.google.com/assets/colab-badge.svg\" alt=\"Open In Colab\"/></a>"
      ]
    },
    {
      "cell_type": "code",
      "source": [
        "# -*- coding: utf-8 -*-\n",
        "#Created on Thursday, January 12 20:00:00 2024\n",
        "#@author: mefamex\n",
        "\n",
        "\n",
        "max_X, max_Y = 10, 10\n",
        "\n",
        "X, Y = 1,1\n",
        "\n",
        "tri=[]\n",
        "\n",
        "def minimalize(args*):\n",
        "    given= [ q if type(q) is int for q in args]\n",
        "\n",
        "\n",
        "\n",
        "def find_tri(x,y):\n",
        "    if x < 1 or y < 1 : return print(\" size must be over than 1(one).\"))\n",
        "    a = int( abs( x**2 - y**2 ) )\n",
        "    b = int( 2*x*y )\n",
        "    c = int( x**2 + y**2)\n",
        "    return a,b,c\n",
        "\n",
        "def add_tri(a,b,c):"
      ],
      "metadata": {
        "id": "-PYZdybn_8nT"
      },
      "execution_count": null,
      "outputs": []
    }
  ]
}