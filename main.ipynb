{
  "nbformat": 4,
  "nbformat_minor": 0,
  "metadata": {
    "colab": {
      "provenance": [],
      "authorship_tag": "ABX9TyO1n0Zrv69H9iQGGRPf+3M1",
      "include_colab_link": true
    },
    "kernelspec": {
      "name": "python3",
      "display_name": "Python 3"
    },
    "language_info": {
      "name": "python"
    }
  },
  "cells": [
    {
      "cell_type": "markdown",
      "metadata": {
        "id": "view-in-github",
        "colab_type": "text"
      },
      "source": [
        "<a href=\"https://colab.research.google.com/github/Mefamex/ozel-ucgenler-Custom-triangles-2023/blob/main/main.ipynb\" target=\"_parent\"><img src=\"https://colab.research.google.com/assets/colab-badge.svg\" alt=\"Open In Colab\"/></a>"
      ]
    },
    {
      "cell_type": "code",
      "source": [
        "# -*- coding: utf-8 -*-\n",
        "#Created on Thursday, January 12 20:00:00 2024\n",
        "#@author: mefamex\n",
        "\n",
        "\n",
        "max_X, max_Y = 10, 10\n",
        "\n",
        "X, Y = 1,1\n",
        "\n",
        "tri=[]\n",
        "\n",
        "\n",
        "def minimalize(*args):\n",
        "    given= [ q if type(q) is int else None for q in args]\n",
        "    div, allDivs, divall = [], {}, {}\n",
        "    for giv in given:\n",
        "        div.append({})\n",
        "        tmp, q = giv+0, 2\n",
        "        while q<=tmp:\n",
        "            if tmp%q==0:\n",
        "                tmp=int(tmp/q)\n",
        "                if q in div[-1].keys():div[-1][q]+=1\n",
        "                else:\n",
        "                    div[-1][q]=1\n",
        "            else:q+=1\n",
        "    for q in div:\n",
        "        for k in q.keys():\n",
        "            if k not in allDivs.keys(): allDivs[k]=1\n",
        "            else: allDivs[k]+=1\n",
        "    for ad in allDivs.keys():\n",
        "        if allDivs[ad]==len(given):divall[ad]=min([ d[ad] if ad in d.keys() else 0 for d in div])\n",
        "    for number in divall:\n",
        "        for giv in range(len(given)):given[giv] = int(given[giv] / number ** divall[number])\n",
        "    return given\n",
        "\n",
        "\n",
        "def find_divisors(x):\n",
        "    if x<0: return print(\"divisors can be in more than zero.\")\n",
        "    divs=[]\n",
        "\n",
        "\n",
        "def find_tri(x,y):\n",
        "    if x < 1 or y < 1 : return print(\" size must be over than 1(one).\")\n",
        "    a = int( abs( x**2 - y**2 ) )\n",
        "    b = int( 2*x*y )\n",
        "    c = int( x**2 + y**2)\n",
        "    return a,b,c\n",
        "\n",
        "def add_tri(a,b,c):pass"
      ],
      "metadata": {
        "id": "-PYZdybn_8nT",
        "colab": {
          "base_uri": "https://localhost:8080/"
        },
        "outputId": "d25a8f22-16ff-4006-a2d7-4ec3c0d659c8"
      },
      "execution_count": 60,
      "outputs": [
        {
          "output_type": "stream",
          "name": "stdout",
          "text": [
            "3 [2, 6, 22]\n",
            "true\n",
            "1 [2, 6, 22]\n",
            "1 [2, 6, 22]\n",
            "[1, 3, 11]\n"
          ]
        }
      ]
    }
  ]
}