{
  "nbformat": 4,
  "nbformat_minor": 0,
  "metadata": {
    "colab": {
      "provenance": [],
      "authorship_tag": "ABX9TyMaFgTc0JT/mQ+vRUVJczoS",
      "include_colab_link": true
    },
    "kernelspec": {
      "name": "python3",
      "display_name": "Python 3"
    },
    "language_info": {
      "name": "python"
    }
  },
  "cells": [
    {
      "cell_type": "markdown",
      "metadata": {
        "id": "view-in-github",
        "colab_type": "text"
      },
      "source": [
        "<a href=\"https://colab.research.google.com/github/Mefamex/ozel-ucgenler-Custom-triangles-2023/blob/main/main.ipynb\" target=\"_parent\"><img src=\"https://colab.research.google.com/assets/colab-badge.svg\" alt=\"Open In Colab\"/></a>"
      ]
    },
    {
      "cell_type": "code",
      "source": [
        "# -*- coding: utf-8 -*-\n",
        "#Created on Thursday, January 12 20:00:00 2024\n",
        "#@author: mefamex\n",
        "\n",
        "\n",
        "max_X, max_Y = 10, 10\n",
        "\n",
        "X, Y = 1,1\n",
        "\n",
        "tri=[]\n",
        "\n",
        "\n",
        "\n",
        "def minimalize(given:list):\n",
        "    ebob = min(given)\n",
        "    for sayi in given:\n",
        "      while sayi:ebob, sayi = sayi, ebob % sayi\n",
        "    return[sayi // ebob for sayi in given]\n",
        "\n",
        "\n",
        "def find_tri(x,y):\n",
        "    if x < 1 or y < 1 : return print(\" size must be over than 1(one).\")\n",
        "    a = int( abs( x**2 - y**2 ) )\n",
        "    b = int( 2*x*y )\n",
        "    c = int( x**2 + y**2)\n",
        "    return a,b,c\n",
        "\n",
        "def add_tri(a,b,c):pass\n",
        "\n",
        "\n",
        "for X in range(1,max_X):\n",
        "    for Y in range(1,max_Y): print(X,Y)"
      ],
      "metadata": {
        "id": "-PYZdybn_8nT",
        "colab": {
          "base_uri": "https://localhost:8080/"
        },
        "outputId": "58a8a554-2f0a-4295-dc12-d0009fbcbe43"
      },
      "execution_count": 92,
      "outputs": [
        {
          "output_type": "stream",
          "name": "stdout",
          "text": [
            "1 1\n",
            "1 2\n",
            "1 3\n",
            "1 4\n",
            "1 5\n",
            "1 6\n",
            "1 7\n",
            "1 8\n",
            "1 9\n",
            "2 1\n",
            "2 2\n",
            "2 3\n",
            "2 4\n",
            "2 5\n",
            "2 6\n",
            "2 7\n",
            "2 8\n",
            "2 9\n",
            "3 1\n",
            "3 2\n",
            "3 3\n",
            "3 4\n",
            "3 5\n",
            "3 6\n",
            "3 7\n",
            "3 8\n",
            "3 9\n",
            "4 1\n",
            "4 2\n",
            "4 3\n",
            "4 4\n",
            "4 5\n",
            "4 6\n",
            "4 7\n",
            "4 8\n",
            "4 9\n",
            "5 1\n",
            "5 2\n",
            "5 3\n",
            "5 4\n",
            "5 5\n",
            "5 6\n",
            "5 7\n",
            "5 8\n",
            "5 9\n",
            "6 1\n",
            "6 2\n",
            "6 3\n",
            "6 4\n",
            "6 5\n",
            "6 6\n",
            "6 7\n",
            "6 8\n",
            "6 9\n",
            "7 1\n",
            "7 2\n",
            "7 3\n",
            "7 4\n",
            "7 5\n",
            "7 6\n",
            "7 7\n",
            "7 8\n",
            "7 9\n",
            "8 1\n",
            "8 2\n",
            "8 3\n",
            "8 4\n",
            "8 5\n",
            "8 6\n",
            "8 7\n",
            "8 8\n",
            "8 9\n",
            "9 1\n",
            "9 2\n",
            "9 3\n",
            "9 4\n",
            "9 5\n",
            "9 6\n",
            "9 7\n",
            "9 8\n",
            "9 9\n"
          ]
        }
      ]
    },
    {
      "cell_type": "code",
      "source": [
        "a = 5\n",
        "for q in range(1,11):\n",
        "  print(q,5%q)"
      ],
      "metadata": {
        "id": "pzfKldVdiaZW",
        "outputId": "b45228f3-944e-4435-d81e-51072f7011e2",
        "colab": {
          "base_uri": "https://localhost:8080/"
        }
      },
      "execution_count": 73,
      "outputs": [
        {
          "output_type": "stream",
          "name": "stdout",
          "text": [
            "1 0\n",
            "2 1\n",
            "3 2\n",
            "4 1\n",
            "5 0\n",
            "6 5\n",
            "7 5\n",
            "8 5\n",
            "9 5\n",
            "10 5\n"
          ]
        }
      ]
    }
  ]
}